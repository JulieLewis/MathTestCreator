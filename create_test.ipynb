{
 "cells": [
  {
   "cell_type": "code",
   "execution_count": 118,
   "metadata": {},
   "outputs": [],
   "source": [
    "from agents.rag_agent import RAGAgent\n",
    "import os\n",
    "from glob import glob\n",
    "import gradio as gr"
   ]
  },
  {
   "cell_type": "code",
   "execution_count": 188,
   "metadata": {},
   "outputs": [
    {
     "name": "stderr",
     "output_type": "stream",
     "text": [
      "huggingface/tokenizers: The current process just got forked, after parallelism has already been used. Disabling parallelism to avoid deadlocks...\n",
      "To disable this warning, you can either:\n",
      "\t- Avoid using `tokenizers` before the fork if possible\n",
      "\t- Explicitly set the environment variable TOKENIZERS_PARALLELISM=(true | false)\n"
     ]
    }
   ],
   "source": [
    "!pip install pymupdf4llm -q"
   ]
  },
  {
   "cell_type": "code",
   "execution_count": 43,
   "metadata": {},
   "outputs": [],
   "source": [
    "%reload_ext autoreload\n",
    "%autoreload 2"
   ]
  },
  {
   "cell_type": "code",
   "execution_count": 202,
   "metadata": {},
   "outputs": [],
   "source": [
    "\n",
    "files = glob(\"/Users/admin/Projects/MathTestCreator/Documents/*\")\n",
    "ragAgent = RAGAgent()"
   ]
  },
  {
   "cell_type": "code",
   "execution_count": 198,
   "metadata": {},
   "outputs": [],
   "source": [
    "import pymupdf\n",
    "from agents.material import Material"
   ]
  },
  {
   "cell_type": "code",
   "execution_count": 206,
   "metadata": {},
   "outputs": [],
   "source": [
    "material = Material(files[0])"
   ]
  },
  {
   "cell_type": "code",
   "execution_count": 207,
   "metadata": {},
   "outputs": [
    {
     "data": {
      "text/plain": [
       "Document(metadata={'source': '/Users/admin/Projects/MathTestCreator/Documents/further.pdf', 'file_path': '/Users/admin/Projects/MathTestCreator/Documents/further.pdf', 'page': 0, 'total_pages': 435, 'format': 'PDF 1.6', 'title': '', 'author': '', 'subject': '', 'keywords': '', 'creator': 'Acrobat 9.4.1 ', 'producer': 'Acrobat 9.4.1 ', 'creationDate': \"D:20110130074608+08'00'\", 'modDate': \"D:20110130211248+08'00'\", 'trapped': '', 'encryption': 'Standard V4 R4 128-bit AES'}, page_content='Advanced High-School Mathematics\\nDavid B. Surowski\\nShanghai American School\\nSingapore American School\\nJanuary 29, 2011\\n')"
      ]
     },
     "execution_count": 207,
     "metadata": {},
     "output_type": "execute_result"
    }
   ],
   "source": [
    "# print(material.load_markdown(files[0]))\n",
    "material.documents[0]"
   ]
  },
  {
   "cell_type": "code",
   "execution_count": 174,
   "metadata": {},
   "outputs": [
    {
     "name": "stdout",
     "output_type": "stream",
     "text": [
      "434\n"
     ]
    }
   ],
   "source": [
    "print(len(material.documents.values()))"
   ]
  },
  {
   "cell_type": "code",
   "execution_count": 212,
   "metadata": {},
   "outputs": [],
   "source": [
    "from agents.collection_agent import CollectionAgent\n",
    "collectionAgent = CollectionAgent()"
   ]
  },
  {
   "cell_type": "code",
   "execution_count": null,
   "metadata": {},
   "outputs": [],
   "source": [
    "collectionAgent.create_source_material(files)"
   ]
  },
  {
   "cell_type": "code",
   "execution_count": 228,
   "metadata": {},
   "outputs": [
    {
     "name": "stderr",
     "output_type": "stream",
     "text": [
      "huggingface/tokenizers: The current process just got forked, after parallelism has already been used. Disabling parallelism to avoid deadlocks...\n",
      "To disable this warning, you can either:\n",
      "\t- Avoid using `tokenizers` before the fork if possible\n",
      "\t- Explicitly set the environment variable TOKENIZERS_PARALLELISM=(true | false)\n"
     ]
    },
    {
     "name": "stdout",
     "output_type": "stream",
     "text": [
      "* Running on local URL:  http://127.0.0.1:7907\n",
      "\n",
      "To create a public link, set `share=True` in `launch()`.\n"
     ]
    },
    {
     "data": {
      "text/html": [
       "<div><iframe src=\"http://127.0.0.1:7907/\" width=\"100%\" height=\"500\" allow=\"autoplay; camera; microphone; clipboard-read; clipboard-write;\" frameborder=\"0\" allowfullscreen></iframe></div>"
      ],
      "text/plain": [
       "<IPython.core.display.HTML object>"
      ]
     },
     "metadata": {},
     "output_type": "display_data"
    },
    {
     "data": {
      "text/plain": []
     },
     "execution_count": 228,
     "metadata": {},
     "output_type": "execute_result"
    },
    {
     "name": "stderr",
     "output_type": "stream",
     "text": [
      "/Users/admin/anaconda3/envs/testg/lib/python3.11/site-packages/langchain_community/document_loaders/parsers/pdf.py:322: UserWarning: Warning: Empty content on page 1 of document /private/var/folders/sn/z9t3m2s11ml9z7s806xf76_m0000gn/T/gradio/e044d7a4cf955c7799a4f2904f5ff1f567df3699e3c3a6a3cea772b79aa02d96/further.pdf\n",
      "  warnings.warn(\n"
     ]
    }
   ],
   "source": [
    "collectionAgent = CollectionAgent()\n",
    "with gr.Blocks() as ui:\n",
    "    def docdata_to_text():\n",
    "        for i, material in enumerate(collectionAgent.documents):\n",
    "            yield f\"### Document {i+1}: \\n\\n {repr(material)}\"\n",
    "    documents = gr.State()\n",
    "    collection = gr.State()\n",
    "    gr.Markdown(\"## Custom Personal Knowledge Assistant\")\n",
    "    interim =  gr.Markdown(\"#### Upload a File\")\n",
    "    with gr.Row():\n",
    "            with gr.Column():\n",
    "                file_uploader = gr.File(file_count=\"multiple\")\n",
    "            with gr.Column():\n",
    "                gr.Markdown(\"### Here are the documents you have uploaded\")\n",
    "                doc_data = gr.Markdown(label=\"Document Data\")\n",
    "    # with gr.Row():\n",
    "    #     rag_button = gr.Button(\"Create Your Custom Assistant\")\n",
    "    with gr.Row():\n",
    "        chatbot = gr.Chatbot(type='messages')\n",
    "        output = gr.Markdown(label=\"Response:\")\n",
    "    with gr.Row():\n",
    "        chat_entry = gr.Textbox()\n",
    "\n",
    "    file_uploader.change(collectionAgent.create_source_material, inputs=[file_uploader], outputs=[documents]).then(docdata_to_text, inputs=[], outputs=[doc_data])\n",
    "\n",
    "    # file_uploader.change(ragAgent.load_files, inputs=[file_uploader], outputs=[documents]).then(ragAgent.document_data, inputs=[], outputs=[doc_data]).then(ragAgent.setup, inputs=[], outputs=[collection])\n",
    "    chat_entry.submit(ragAgent.gpt_4o_mini_rag, inputs=[chat_entry], outputs=[output])\n",
    "\n",
    "\n",
    "ui.launch()\n",
    "        "
   ]
  },
  {
   "cell_type": "code",
   "execution_count": null,
   "metadata": {},
   "outputs": [],
   "source": []
  }
 ],
 "metadata": {
  "kernelspec": {
   "display_name": "testg",
   "language": "python",
   "name": "python3"
  },
  "language_info": {
   "codemirror_mode": {
    "name": "ipython",
    "version": 3
   },
   "file_extension": ".py",
   "mimetype": "text/x-python",
   "name": "python",
   "nbconvert_exporter": "python",
   "pygments_lexer": "ipython3",
   "version": "3.11.11"
  }
 },
 "nbformat": 4,
 "nbformat_minor": 2
}
