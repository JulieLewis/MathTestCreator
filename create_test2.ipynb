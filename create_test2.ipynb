{
 "cells": [
  {
   "cell_type": "code",
   "execution_count": 2,
   "metadata": {},
   "outputs": [],
   "source": [
    "from agents.collection_agent import CollectionAgent\n",
    "from agents.source_material import SourceMaterial\n",
    "from agents.test_question import TestQuestions, Question\n",
    "import os\n",
    "from glob import glob\n",
    "import gradio as gr\n",
    "import pandas as pd\n",
    "from openai import OpenAI\n",
    "openai = OpenAI()\n",
    "os.environ[\"TOKENIZERS_PARALLELISM\"] = \"false\""
   ]
  },
  {
   "cell_type": "code",
   "execution_count": 3,
   "metadata": {},
   "outputs": [],
   "source": [
    "%reload_ext autoreload\n",
    "%autoreload 2"
   ]
  },
  {
   "cell_type": "code",
   "execution_count": 4,
   "metadata": {},
   "outputs": [],
   "source": [
    "files = glob(\"/Users/admin/Projects/MathTestCreator/Documents/*\")"
   ]
  },
  {
   "cell_type": "code",
   "execution_count": 59,
   "metadata": {},
   "outputs": [
    {
     "name": "stdout",
     "output_type": "stream",
     "text": [
      "file added\n",
      "initial collection set\n"
     ]
    },
    {
     "data": {
      "text/plain": [
       "Collection(name=math_documents)"
      ]
     },
     "execution_count": 59,
     "metadata": {},
     "output_type": "execute_result"
    }
   ],
   "source": [
    "collectionAgent = CollectionAgent()\n",
    "collectionAgent.create_source_material(files)\n",
    "collectionAgent.setup()"
   ]
  },
  {
   "cell_type": "code",
   "execution_count": 68,
   "metadata": {},
   "outputs": [],
   "source": [
    "result = collectionAgent.create_formatted_test( 'math', 11, 3, 'trigonometry', 'short answer, fill in the blank')"
   ]
  },
  {
   "cell_type": "code",
   "execution_count": 70,
   "metadata": {},
   "outputs": [
    {
     "data": {
      "text/plain": [
       "[Question(number=1, question='In the equation d² −2kd cos θ + k² − r² = 0, identify the term that represents the product of the two roots of this equation.'),\n",
       " Question(number=2, question='Given the quadratic equation d² −2kd cos θ + k² − r² = 0, fill in the blank: The expression that is independent of the angle θ is _____.'),\n",
       " Question(number=3, question='In the context of the equation d² −2kd cos θ + k² − r² = 0, fill in the blank: The value of k² − d² represents the product of the roots, which is _____.')]"
      ]
     },
     "execution_count": 70,
     "metadata": {},
     "output_type": "execute_result"
    }
   ],
   "source": [
    "result.questions"
   ]
  },
  {
   "cell_type": "code",
   "execution_count": null,
   "metadata": {},
   "outputs": [],
   "source": []
  },
  {
   "cell_type": "code",
   "execution_count": 91,
   "metadata": {},
   "outputs": [
    {
     "data": {
      "text/plain": [
       "0"
      ]
     },
     "execution_count": 91,
     "metadata": {},
     "output_type": "execute_result"
    }
   ],
   "source": [
    "material.metadata['page']"
   ]
  },
  {
   "cell_type": "code",
   "execution_count": 45,
   "metadata": {},
   "outputs": [
    {
     "data": {
      "text/plain": [
       "int"
      ]
     },
     "execution_count": 45,
     "metadata": {},
     "output_type": "execute_result"
    }
   ],
   "source": [
    "type(1)"
   ]
  },
  {
   "cell_type": "code",
   "execution_count": 26,
   "metadata": {},
   "outputs": [],
   "source": [
    "css_string =\".editable-table th {font-style: italic;} .editable-table td {font-style: italic;cursor: pointer;} .locked-table th {font-weight: bold;} .locked-table td {font-weight: normal;cursor: not-allowed; border: 0}\""
   ]
  },
  {
   "cell_type": "code",
   "execution_count": 16,
   "metadata": {},
   "outputs": [],
   "source": [
    "css_string = \"\"\".green-button {background-color: #32de84} .green-button:hover {color:#32de84}  .error {color : #cc0000, font-size:24 }\n",
    "<style> .custom-padding {\n",
    "        padding: 20px;\n",
    "    }\n",
    "</style>\"\"\"\n"
   ]
  },
  {
   "cell_type": "code",
   "execution_count": 76,
   "metadata": {},
   "outputs": [
    {
     "name": "stdout",
     "output_type": "stream",
     "text": [
      "* Running on local URL:  http://127.0.0.1:7860\n",
      "\n",
      "To create a public link, set `share=True` in `launch()`.\n"
     ]
    },
    {
     "data": {
      "text/html": [
       "<div><iframe src=\"http://127.0.0.1:7860/\" width=\"100%\" height=\"500\" allow=\"autoplay; camera; microphone; clipboard-read; clipboard-write;\" frameborder=\"0\" allowfullscreen></iframe></div>"
      ],
      "text/plain": [
       "<IPython.core.display.HTML object>"
      ]
     },
     "metadata": {},
     "output_type": "display_data"
    },
    {
     "data": {
      "text/plain": []
     },
     "execution_count": 76,
     "metadata": {},
     "output_type": "execute_result"
    },
    {
     "name": "stderr",
     "output_type": "stream",
     "text": [
      "/Users/admin/anaconda3/envs/testg/lib/python3.11/site-packages/langchain_community/document_loaders/parsers/pdf.py:322: UserWarning: Warning: Empty content on page 1 of document /private/var/folders/sn/z9t3m2s11ml9z7s806xf76_m0000gn/T/gradio/e044d7a4cf955c7799a4f2904f5ff1f567df3699e3c3a6a3cea772b79aa02d96/further.pdf\n",
      "  warnings.warn(\n"
     ]
    },
    {
     "name": "stdout",
     "output_type": "stream",
     "text": [
      "file added\n",
      "initial collection set\n"
     ]
    }
   ],
   "source": [
    "ui.close()\n",
    "collectionAgent = CollectionAgent()\n",
    "def do_entry(message, history):\n",
    "        history += [{\"role\":\"user\", \"content\":message}]\n",
    "        return \"\", history\n",
    "def stream_test(result):\n",
    "        test_markdown = ''\n",
    "        for item in result.questions:\n",
    "            test_markdown += (f\"{item.number}. {item.question} \\n\\n\")\n",
    "            yield test_markdown\n",
    "def file_test(result):\n",
    "     with ('test_file.txt', 'wb') as f:\n",
    "          for item in result.questions:\n",
    "            f.write(f\"{item.number}. {item.question} \\n\\n\")\n",
    "    f.close()\n",
    "\n",
    "              \n",
    "def docdata_to_text(material):\n",
    "    # for material in collectionAgent.materials:\n",
    "    if material.supported:\n",
    "            yield f\"### Document Successfully Uploaded\\n\\n {repr(material)}\"\n",
    "    else:\n",
    "        yield '### Unsupported Document Type' \n",
    "def create_test_output(json):\n",
    "    return json\n",
    "def doc_to_df(doc_df, new_material):\n",
    "    try:\n",
    "        if new_material:\n",
    "            if new_material.supported:\n",
    "                index_value = len(doc_df) if doc_df.loc[0][\"Name\"] else 0\n",
    "                doc_df.loc[index_value] = [index_value+1,\n",
    "                                           new_material.name,\n",
    "                                           0,\n",
    "                                           int(new_material.length),\n",
    "                                           new_material.length_type \n",
    "                                        ]\n",
    "            return doc_df,  gr.update(visible=True), gr.update(visible=True)\n",
    "    except Exception as e:\n",
    "        print('noooooo')\n",
    "    return doc_df,  gr.update(visible=False), gr.update(visible=False)\n",
    "with gr.Blocks(css=css_string, theme=gr.themes.Ocean() ,title=\"Custom Math Test Creator\") as ui:\n",
    "    questions = gr.State()\n",
    "    new_doc = gr.State()\n",
    "    #Set Parameters\n",
    "    gr.Markdown('## Custom  Test Creator')\n",
    "\n",
    "    with gr.Tab('Material'):                \n",
    "        with gr.Row():\n",
    "                gr.Markdown(\"#### Upload source materials for your test:\")\n",
    "        with gr.Row():\n",
    "                with gr.Column():\n",
    "                    file_uploader = gr.File(file_count=\"multiple\",  height=175)\n",
    "                with gr.Column():\n",
    "                    # gr.Markdown(\"### Here are the documents you have uploaded\")\n",
    "                    doc_data = gr.Markdown(label=\"Document Data\", height=175)\n",
    "        with gr.Row():\n",
    "            doc_markdown = gr.Markdown(\"### Uploaded Documents\", visible=False)\n",
    "\n",
    "        with gr.Row():\n",
    "            doc_df = gr.Dataframe(\n",
    "                headers = [\"Material\", \"Name\", \"Start\", \"End\", \"Unit\"],\n",
    "                interactive=True,\n",
    "                column_widths=[1,3,1,1,2],\n",
    "                datatype=[\"number\", \"str\",\"number\",\"number\",\"str\" ],\n",
    "                col_count=(5, \"fixed\"),\n",
    "                visible = False,\n",
    "                wrap = True,\n",
    "                elem_classes = \"editable-table\",\n",
    "            )\n",
    "\n",
    "        with gr.Row():\n",
    "            with gr.Column():\n",
    "                no_rag = gr.Button(\"Continue without materials (not recommended)\")\n",
    "            with gr.Column():\n",
    "                create_rag = gr.Button(\"Material Upload Completed\", visible=False, elem_classes=\"green-button\")\n",
    "        with gr.Row():\n",
    "            error_messages = gr.Markdown(elem_classes=\"error\")\n",
    "        with gr.Row():\n",
    "            success_messages = gr.Markdown(\"###\")\n",
    "\n",
    "    with gr.Tab(\"Test Creator\"): \n",
    "        gr.Markdown(\"## Welcome to your test creator\")\n",
    "        gr.Markdown(f\"### Create a test based on your material uploads:\")\n",
    "        document_markdown = gr.Markdown()\n",
    "    \n",
    "        with gr.Row(): \n",
    "            subject = gr.Textbox(label = \"Subject\", value='Math')\n",
    "            grade_level = gr.Dropdown(label=\"Grade Level\", choices=[6,7,8,9,10,11,12,\"College\", \"University\"])\n",
    "        with gr.Row():\n",
    "            with gr.Column(scale=2):\n",
    "                question_number = gr.Textbox(2,label = \"Number of questions\")\n",
    "                topics = gr.Textbox('trig',label = \"Topics\")\n",
    "                question_type = gr.Dropdown( label=\"Types of questions\", choices=['Mulitple Choice', 'Essay', 'True/False', 'Short Answer', 'File in the Blank'],multiselect=True)\n",
    "                create_test = gr.Button(\"Create a test\")\n",
    "                test_feedback = gr.Textbox(label=\"Give feedback on the test\")\n",
    "            with gr.Column(scale=3):\n",
    "                test_markdown = gr.Markdown(label=\"Test:\", min_height=300)\n",
    "           \n",
    "        # related = gr.Textbox('related')   \n",
    "        download_test = gr.DownloadButton(label='Download', value='test_file.txt')\n",
    "    \n",
    "        # with gr.Row():\n",
    "        #     with gr.Column():\n",
    "        #         chatbot = gr.Chatbot(type='messages')\n",
    "                # chat_entry = gr.Textbox() \n",
    "            # with gr.Column(scale=2):\n",
    "                #  test = gr.Markdown(\"## Test\")          \n",
    "    def check_integer_values(doc_df):\n",
    "        starts = [start for start in doc_df[\"Start\"]]\n",
    "        ends=  [end for end in doc_df[\"End\"]]\n",
    "        digits = [x for x in starts + ends if not str(x).isdigit()]\n",
    "        if len(digits) > 0:\n",
    "            return f\"starts and ends must be integers\", gr.update(visible=False)\n",
    "        if doc_df.loc[0][\"Name\"]:\n",
    "            return \"\", gr.update(visible=True)\n",
    "        else:\n",
    "            return \"\", gr.update(visible=False)\n",
    "        \n",
    "        \n",
    "    file_uploader.change(collectionAgent.create_source_material, inputs=[file_uploader], outputs=[new_doc])\n",
    "    new_doc.change(docdata_to_text, inputs=[new_doc], outputs=[doc_data]).then(doc_to_df, inputs=[doc_df, new_doc], outputs=[doc_df, doc_df, create_rag])\n",
    "    # .then(populate_material,inputs=doc_df, outputs=document_markdown) \n",
    "    # chat_entry.submit(do_entry, inputs=[chat_entry, chatbot], outputs=[chat_entry, chatbot]).then(\n",
    "    #     chat_gpt, inputs=[chatbot,question_number, topics, question_type, doc_df], outputs=[chatbot]).then(collectionAgent.create_collection)\n",
    "    # test_create.click(collectionAgent.setup).then(collectionAgent.gpt_4o_mini_rag, inputs=[chatbot], outputs=[output])\n",
    "    doc_df.change(check_integer_values, inputs=[doc_df], outputs=[error_messages,create_rag])\n",
    "    \n",
    "    create_rag.click(collectionAgent.materials_rag, inputs=[doc_df], outputs=[success_messages]).then(collectionAgent.setup)\n",
    "    create_test.click(collectionAgent.create_formatted_test, inputs=[subject, grade_level, question_number, topics,question_type], outputs=[questions]).then(stream_test, inputs=[questions], outputs=[test_markdown])\n",
    "    test_feedback.submit(collectionAgent.create_formatted_test, inputs=[subject, grade_level, question_number, topics,question_type, test_feedback], outputs=[questions]).then(stream_test, inputs=[questions], outputs=[test_markdown]).then(file_test, inputs=[questions])\n",
    "\n",
    "ui.launch(inbrowser=True)\n",
    "        "
   ]
  },
  {
   "cell_type": "markdown",
   "metadata": {},
   "source": []
  },
  {
   "cell_type": "code",
   "execution_count": 87,
   "metadata": {},
   "outputs": [
    {
     "name": "stdout",
     "output_type": "stream",
     "text": [
      "Closing server running on port: 7888\n"
     ]
    }
   ],
   "source": [
    "ui.close()\n"
   ]
  }
 ],
 "metadata": {
  "kernelspec": {
   "display_name": "testg",
   "language": "python",
   "name": "python3"
  },
  "language_info": {
   "codemirror_mode": {
    "name": "ipython",
    "version": 3
   },
   "file_extension": ".py",
   "mimetype": "text/x-python",
   "name": "python",
   "nbconvert_exporter": "python",
   "pygments_lexer": "ipython3",
   "version": "3.11.11"
  }
 },
 "nbformat": 4,
 "nbformat_minor": 2
}
