{
 "cells": [
  {
   "cell_type": "code",
   "execution_count": 2,
   "metadata": {},
   "outputs": [],
   "source": [
    "from agents.collection_agent import CollectionAgent\n",
    "from agents.source_material import SourceMaterial\n",
    "from agents.test_question import TestQuestions, Question\n",
    "import os\n",
    "from glob import glob\n",
    "import gradio as gr\n",
    "import pandas as pd\n",
    "from openai import OpenAI\n",
    "openai = OpenAI()\n",
    "os.environ[\"TOKENIZERS_PARALLELISM\"] = \"false\""
   ]
  },
  {
   "cell_type": "code",
   "execution_count": 3,
   "metadata": {},
   "outputs": [],
   "source": [
    "%reload_ext autoreload\n",
    "%autoreload 2"
   ]
  },
  {
   "cell_type": "code",
   "execution_count": 4,
   "metadata": {},
   "outputs": [],
   "source": [
    "files = glob(\"/Users/admin/Projects/MathTestCreator/Documents/*\")"
   ]
  },
  {
   "cell_type": "code",
   "execution_count": 59,
   "metadata": {},
   "outputs": [
    {
     "name": "stdout",
     "output_type": "stream",
     "text": [
      "initial collection set\n"
     ]
    }
   ],
   "source": [
    "collectionAgent = CollectionAgent()\n",
    "# collectionAgent.create_source_material(files)\n",
    "collectionAgent.setup()"
   ]
  },
  {
   "cell_type": "code",
   "execution_count": 68,
   "metadata": {},
   "outputs": [],
   "source": [
    "result = collectionAgent.create_formatted_test( 'math', 11, 3, 'trigonometry', 'short answer, fill in the blank')"
   ]
  },
  {
   "cell_type": "code",
   "execution_count": 103,
   "metadata": {},
   "outputs": [
    {
     "name": "stdout",
     "output_type": "stream",
     "text": [
      "questions=[Question(number=1, question='What is the value of sin(30°)?'), Question(number=2, question='Which of the following is the correct identity for tan(θ)?'), Question(number=3, question='If cos(θ) = 0.6, what is sin(θ) if θ is in the first quadrant?')]\n"
     ]
    }
   ],
   "source": [
    "result = collectionAgent.create_formatted_test('math', '10', 3, 'trig', 'multiple choice', example_questions='', feedback='', creativity=0)"
   ]
  },
  {
   "cell_type": "code",
   "execution_count": 79,
   "metadata": {},
   "outputs": [
    {
     "name": "stdout",
     "output_type": "stream",
     "text": [
      "number=1 question='What is the value of sin(30°)?\\nA) 0\\nB) 0.5\\nC) 1\\nD) √3/2'\n",
      "number=2 question='Which of the following is the correct identity for tan(θ)?\\nA) sin(θ)/cos(θ)\\nB) cos(θ)/sin(θ)\\nC) 1/sin(θ)\\nD) 1/cos(θ)'\n",
      "number=3 question='If cos(θ) = 0.6, what is sin(θ) if θ is in the first quadrant?\\nA) 0.8\\nB) 0.6\\nC) 0.4\\nD) 1.0'\n"
     ]
    }
   ],
   "source": [
    "for item in result.questions:\n",
    "    print(item)"
   ]
  },
  {
   "cell_type": "code",
   "execution_count": 99,
   "metadata": {},
   "outputs": [
    {
     "name": "stdout",
     "output_type": "stream",
     "text": [
      "number=1 question='The sine of an angle is always greater than or equal to zero.'\n"
     ]
    }
   ],
   "source": [
    "print(collectionAgent.Test.questions[0])"
   ]
  },
  {
   "cell_type": "code",
   "execution_count": 105,
   "metadata": {},
   "outputs": [
    {
     "name": "stdout",
     "output_type": "stream",
     "text": [
      "wefshegwgaigrg\n"
     ]
    },
    {
     "data": {
      "text/plain": [
       "[Question(number=1, question='What is the value of sin(30°)?')]"
      ]
     },
     "execution_count": 105,
     "metadata": {},
     "output_type": "execute_result"
    }
   ],
   "source": [
    "collectionAgent.restrict_questions_by([1])"
   ]
  },
  {
   "cell_type": "code",
   "execution_count": null,
   "metadata": {},
   "outputs": [],
   "source": []
  },
  {
   "cell_type": "code",
   "execution_count": 83,
   "metadata": {},
   "outputs": [
    {
     "name": "stdout",
     "output_type": "stream",
     "text": [
      "writing!!!!!!\n",
      "writing!!!!!!\n",
      "writing!!!!!!\n"
     ]
    }
   ],
   "source": [
    "with open('test_file.txt', 'w') as f:\n",
    "    for item in result.questions:\n",
    "        print ('writing!!!!!!')\n",
    "        f.write(f\"{item.number}. {item.question} \\n\\n\")\n",
    "f.close()\n",
    "    "
   ]
  },
  {
   "cell_type": "code",
   "execution_count": 93,
   "metadata": {},
   "outputs": [
    {
     "name": "stdout",
     "output_type": "stream",
     "text": [
      "Collecting reportlab\n",
      "  Downloading reportlab-4.2.5-py3-none-any.whl.metadata (1.5 kB)\n",
      "Requirement already satisfied: pillow>=9.0.0 in /Users/admin/anaconda3/envs/testg/lib/python3.11/site-packages (from reportlab) (11.0.0)\n",
      "Requirement already satisfied: chardet in /Users/admin/anaconda3/envs/testg/lib/python3.11/site-packages (from reportlab) (5.2.0)\n",
      "Downloading reportlab-4.2.5-py3-none-any.whl (1.9 MB)\n",
      "\u001b[2K   \u001b[90m━━━━━━━━━━━━━━━━━━━━━━━━━━━━━━━━━━━━━━━━\u001b[0m \u001b[32m1.9/1.9 MB\u001b[0m \u001b[31m746.3 kB/s\u001b[0m eta \u001b[36m0:00:00\u001b[0ma \u001b[36m0:00:01\u001b[0m\n",
      "\u001b[?25hInstalling collected packages: reportlab\n",
      "Successfully installed reportlab-4.2.5\n"
     ]
    }
   ],
   "source": [
    "!pip install reportlab"
   ]
  },
  {
   "cell_type": "code",
   "execution_count": 115,
   "metadata": {},
   "outputs": [],
   "source": [
    "from reportlab.pdfgen import canvas\n",
    "def write_text_to_pdf(text, filename=\"output.pdf\"):\n",
    "    # Create a PDF canvas\n",
    "    c = canvas.Canvas(filename)\n",
    "\n",
    "    # Set font and size\n",
    "    c.setFont(\"Helvetica\", 12)\n",
    "\n",
    "    # Write text to the PDF\n",
    "    x, y = 50, 800  # Starting position (from bottom-left corner)\n",
    "    for line in text.splitlines():\n",
    "        c.drawString(x, y, line)\n",
    "        y -= 15  # Move down for the next line\n",
    "\n",
    "    # Save the PDF\n",
    "    c.save()\n",
    "    return filename"
   ]
  },
  {
   "cell_type": "code",
   "execution_count": 102,
   "metadata": {},
   "outputs": [
    {
     "ename": "ValueError",
     "evalue": "<Table@0x481F264D0 unknown rows x unknown cols>... invalid data type",
     "output_type": "error",
     "traceback": [
      "\u001b[0;31m---------------------------------------------------------------------------\u001b[0m",
      "\u001b[0;31mValueError\u001b[0m                                Traceback (most recent call last)",
      "Cell \u001b[0;32mIn[102], line 50\u001b[0m\n\u001b[1;32m     47\u001b[0m     \u001b[38;5;28;01mreturn\u001b[39;00m filename\n\u001b[1;32m     49\u001b[0m \u001b[38;5;66;03m# Create and save the formatted PDF\u001b[39;00m\n\u001b[0;32m---> 50\u001b[0m pdf_file \u001b[38;5;241m=\u001b[39m \u001b[43mcreate_formatted_pdf\u001b[49m\u001b[43m(\u001b[49m\u001b[38;5;124;43m'\u001b[39;49m\u001b[38;5;124;43mhello\u001b[39;49m\u001b[38;5;124;43m'\u001b[39;49m\u001b[43m)\u001b[49m\n\u001b[1;32m     51\u001b[0m \u001b[38;5;66;03m# print(f\"PDF created: {pdf_file}\")\u001b[39;00m\n",
      "Cell \u001b[0;32mIn[102], line 32\u001b[0m, in \u001b[0;36mcreate_formatted_pdf\u001b[0;34m(data, filename)\u001b[0m\n\u001b[1;32m     12\u001b[0m title \u001b[38;5;241m=\u001b[39m Paragraph(\u001b[38;5;124m\"\u001b[39m\u001b[38;5;124mFormatted PDF Example\u001b[39m\u001b[38;5;124m\"\u001b[39m, styles[\u001b[38;5;124m'\u001b[39m\u001b[38;5;124mTitle\u001b[39m\u001b[38;5;124m'\u001b[39m])\n\u001b[1;32m     14\u001b[0m \u001b[38;5;66;03m# Subtitle\u001b[39;00m\n\u001b[1;32m     15\u001b[0m \u001b[38;5;66;03m# subtitle = Paragraph(\"This is a demonstration of creating a PDF with a specific format.\", styles['Subtitle'])\u001b[39;00m\n\u001b[1;32m     16\u001b[0m \n\u001b[0;32m   (...)\u001b[0m\n\u001b[1;32m     30\u001b[0m \n\u001b[1;32m     31\u001b[0m \u001b[38;5;66;03m# Table with style\u001b[39;00m\n\u001b[0;32m---> 32\u001b[0m table \u001b[38;5;241m=\u001b[39m \u001b[43mTable\u001b[49m\u001b[43m(\u001b[49m\u001b[43mdata\u001b[49m\u001b[43m)\u001b[49m\n\u001b[1;32m     33\u001b[0m table\u001b[38;5;241m.\u001b[39msetStyle(TableStyle([\n\u001b[1;32m     34\u001b[0m     (\u001b[38;5;124m'\u001b[39m\u001b[38;5;124mBACKGROUND\u001b[39m\u001b[38;5;124m'\u001b[39m, (\u001b[38;5;241m0\u001b[39m, \u001b[38;5;241m0\u001b[39m), (\u001b[38;5;241m-\u001b[39m\u001b[38;5;241m1\u001b[39m, \u001b[38;5;241m0\u001b[39m), colors\u001b[38;5;241m.\u001b[39mgrey),  \u001b[38;5;66;03m# Header background\u001b[39;00m\n\u001b[1;32m     35\u001b[0m     (\u001b[38;5;124m'\u001b[39m\u001b[38;5;124mTEXTCOLOR\u001b[39m\u001b[38;5;124m'\u001b[39m, (\u001b[38;5;241m0\u001b[39m, \u001b[38;5;241m0\u001b[39m), (\u001b[38;5;241m-\u001b[39m\u001b[38;5;241m1\u001b[39m, \u001b[38;5;241m0\u001b[39m), colors\u001b[38;5;241m.\u001b[39mwhitesmoke),  \u001b[38;5;66;03m# Header text color\u001b[39;00m\n\u001b[0;32m   (...)\u001b[0m\n\u001b[1;32m     40\u001b[0m     (\u001b[38;5;124m'\u001b[39m\u001b[38;5;124mGRID\u001b[39m\u001b[38;5;124m'\u001b[39m, (\u001b[38;5;241m0\u001b[39m, \u001b[38;5;241m0\u001b[39m), (\u001b[38;5;241m-\u001b[39m\u001b[38;5;241m1\u001b[39m, \u001b[38;5;241m-\u001b[39m\u001b[38;5;241m1\u001b[39m), \u001b[38;5;241m1\u001b[39m, colors\u001b[38;5;241m.\u001b[39mblack),  \u001b[38;5;66;03m# Grid lines\u001b[39;00m\n\u001b[1;32m     41\u001b[0m ]))\n\u001b[1;32m     43\u001b[0m \u001b[38;5;66;03m# Build the PDF\u001b[39;00m\n",
      "File \u001b[0;32m~/anaconda3/envs/testg/lib/python3.11/site-packages/reportlab/platypus/tables.py:273\u001b[0m, in \u001b[0;36mTable.__init__\u001b[0;34m(self, data, colWidths, rowHeights, style, repeatRows, repeatCols, splitByRow, splitInRow, emptyTableAction, ident, hAlign, vAlign, normalizedData, cellStyles, rowSplitRange, spaceBefore, spaceAfter, longTableOptimize, minRowHeights, cornerRadii, renderCB)\u001b[0m\n\u001b[1;32m    271\u001b[0m \u001b[38;5;28mself\u001b[39m\u001b[38;5;241m.\u001b[39mvAlign \u001b[38;5;241m=\u001b[39m vAlign \u001b[38;5;129;01mor\u001b[39;00m \u001b[38;5;124m'\u001b[39m\u001b[38;5;124mMIDDLE\u001b[39m\u001b[38;5;124m'\u001b[39m\n\u001b[1;32m    272\u001b[0m \u001b[38;5;28;01mif\u001b[39;00m \u001b[38;5;129;01mnot\u001b[39;00m \u001b[38;5;28misinstance\u001b[39m(data,(\u001b[38;5;28mtuple\u001b[39m,\u001b[38;5;28mlist\u001b[39m)):\n\u001b[0;32m--> 273\u001b[0m     \u001b[38;5;28;01mraise\u001b[39;00m \u001b[38;5;167;01mValueError\u001b[39;00m(\u001b[38;5;124m\"\u001b[39m\u001b[38;5;132;01m%s\u001b[39;00m\u001b[38;5;124m invalid data type\u001b[39m\u001b[38;5;124m\"\u001b[39m \u001b[38;5;241m%\u001b[39m \u001b[38;5;28mself\u001b[39m\u001b[38;5;241m.\u001b[39midentity())\n\u001b[1;32m    274\u001b[0m \u001b[38;5;28mself\u001b[39m\u001b[38;5;241m.\u001b[39m_renderCB \u001b[38;5;241m=\u001b[39m renderCB\n\u001b[1;32m    275\u001b[0m \u001b[38;5;28mself\u001b[39m\u001b[38;5;241m.\u001b[39m_nrows \u001b[38;5;241m=\u001b[39m nrows \u001b[38;5;241m=\u001b[39m \u001b[38;5;28mlen\u001b[39m(data)\n",
      "\u001b[0;31mValueError\u001b[0m: <Table@0x481F264D0 unknown rows x unknown cols>... invalid data type"
     ]
    }
   ],
   "source": [
    "from reportlab.lib import colors\n",
    "from reportlab.lib.pagesizes import letter\n",
    "from reportlab.platypus import SimpleDocTemplate, Paragraph, Table, TableStyle\n",
    "from reportlab.lib.styles import getSampleStyleSheet\n",
    "\n",
    "def create_formatted_pdf(data, filename=\"formatted_output.pdf\"):\n",
    "    # Create a PDF document\n",
    "    doc = SimpleDocTemplate(filename, pagesize=letter)\n",
    "    styles = getSampleStyleSheet()\n",
    "\n",
    "    # Title\n",
    "    title = Paragraph(\"Formatted PDF Example\", styles['Title'])\n",
    "\n",
    "    # Subtitle\n",
    "    # subtitle = Paragraph(\"This is a demonstration of creating a PDF with a specific format.\", styles['Subtitle'])\n",
    "\n",
    "    # Content paragraph\n",
    "    # content = Paragraph(\n",
    "    #     \"\"\"This PDF includes various formatting elements such as a title, subtitle, paragraphs, \n",
    "    #     and a table. The table below displays example data with styled cells.\"\"\", \n",
    "    #     styles['BodyText']\n",
    "    # )\n",
    "\n",
    "    # Table data\n",
    "    # data = [\n",
    "    #     [\"Header 1\", \"Header 2\", \"Header 3\"],\n",
    "    #     [\"Row 1 Col 1\", \"Row 1 Col 2\", \"Row 1 Col 3\"],\n",
    "    #     [\"Row 2 Col 1\", \"Row 2 Col 2\", \"Row 2 Col 3\"],\n",
    "    # ]\n",
    "\n",
    "    # Table with style\n",
    "    table = Table(data)\n",
    "    table.  .setStyl÷ors.whitesmoke),  # Header text color\n",
    "        ('ALIGN', (0, 0), (-1, -1), 'CENTER'),\n",
    "        ('FONTNAME', (0, 0), (-1, 0), 'Helvetica-Bold'),\n",
    "        ('BOTTOMPADDING', (0, 0), (-1, 0), 12),\n",
    "        ('BACKGROUND', (0, 1), (-1, -1), colors.beige),  # Row background\n",
    "        ('GRID', (0, 0), (-1, -1), 1, colors.black),  # Grid lines\n",
    "    ]))\n",
    "\n",
    "    # Build the PDF\n",
    "    elements = [title, subtitle, content, table]\n",
    "    doc.build(elements)\n",
    "\n",
    "    return filename\n",
    "\n",
    "# Create and save the formatted PDF\n",
    "pdf_file = create_formatted_pdf()\n",
    "# print(f\"PDF created: {pdf_file}\")"
   ]
  },
  {
   "cell_type": "code",
   "execution_count": 26,
   "metadata": {},
   "outputs": [],
   "source": [
    "css_string =\".editable-table th {font-style: italic;} .editable-table td {font-style: italic;cursor: pointer;} .locked-table th {font-weight: bold;} .locked-table td {font-weight: normal;cursor: not-allowed; border: 0}\""
   ]
  },
  {
   "cell_type": "code",
   "execution_count": 20,
   "metadata": {},
   "outputs": [],
   "source": [
    "css_string = \"\"\" .green-button:hover {color:#32de84} .red-button:hover {color:#cc0000} .error{color:#cc0000, font-size:24 }\n",
    "<style> .custom-padding {\n",
    "        padding: 20px;\n",
    "    }\n",
    "</style>\"\"\"\n"
   ]
  },
  {
   "cell_type": "code",
   "execution_count": 120,
   "metadata": {},
   "outputs": [
    {
     "name": "stdout",
     "output_type": "stream",
     "text": [
      "Closing server running on port: 7860\n",
      "* Running on local URL:  http://127.0.0.1:7860\n",
      "\n",
      "To create a public link, set `share=True` in `launch()`.\n"
     ]
    },
    {
     "data": {
      "text/html": [
       "<div><iframe src=\"http://127.0.0.1:7860/\" width=\"100%\" height=\"500\" allow=\"autoplay; camera; microphone; clipboard-read; clipboard-write;\" frameborder=\"0\" allowfullscreen></iframe></div>"
      ],
      "text/plain": [
       "<IPython.core.display.HTML object>"
      ]
     },
     "metadata": {},
     "output_type": "display_data"
    },
    {
     "data": {
      "text/plain": []
     },
     "execution_count": 120,
     "metadata": {},
     "output_type": "execute_result"
    },
    {
     "name": "stderr",
     "output_type": "stream",
     "text": [
      "/Users/admin/anaconda3/envs/testg/lib/python3.11/site-packages/langchain_community/document_loaders/parsers/pdf.py:322: UserWarning: Warning: Empty content on page 1 of document /private/var/folders/sn/z9t3m2s11ml9z7s806xf76_m0000gn/T/gradio/e044d7a4cf955c7799a4f2904f5ff1f567df3699e3c3a6a3cea772b79aa02d96/further.pdf\n",
      "  warnings.warn(\n"
     ]
    },
    {
     "name": "stdout",
     "output_type": "stream",
     "text": [
      "file added\n",
      "initial collection set\n"
     ]
    }
   ],
   "source": [
    "ui.close()\n",
    "collectionAgent = CollectionAgent()\n",
    "# def do_entry(message, history):\n",
    "#         history += [{\"role\":\"user\", \"content\":message}]\n",
    "#         return \"\", history\n",
    "def make_tabs_visible():\n",
    "    gr.update(visible=True, id='workshop')\n",
    "def stream_test(result):\n",
    "        test_markdown = \"## Draft Test Questions:\\n\\n\\n\"\n",
    "        for item in result.questions:\n",
    "            test_markdown += (f\"{item.number}. {item.question} \\n\\n\\n\")\n",
    "            yield test_markdown\n",
    "def update_keep_questions(results):\n",
    "    choices = [item.number for item in results.questions]\n",
    "    return gr.update(choices=choices, visible=True)\n",
    "def file_test(result, type):\n",
    "    text = ''.join([f\"{item.number}. {item.question} \\n\\n\" for item in result.questions])\n",
    "    file_path = \"output.pdf\"\n",
    "    if type == 'pdf':\n",
    "         write_text_to_pdf(text, file_path)\n",
    "    else:\n",
    "        with open(file_path, \"w\") as f:\n",
    "                f.write(text)\n",
    "        # f.close()\n",
    "    return file_path, file_path\n",
    "        \n",
    "def docdata_to_text(material):\n",
    "    # for material in collectionAgent.materials:\n",
    "    if material.supported:\n",
    "            yield f\"### Document Successfully Uploaded\\n\\n {repr(material)}\"\n",
    "    else:\n",
    "        yield '### Unsupported Document Type' \n",
    "def create_test_output(json):\n",
    "    return json\n",
    "def doc_to_df(doc_df, new_material):\n",
    "    try:\n",
    "        if new_material:\n",
    "            if new_material.supported:\n",
    "                index_value = len(doc_df) if doc_df.loc[0][\"Name\"] else 0\n",
    "                doc_df.loc[index_value] = [index_value+1,\n",
    "                                           new_material.name,\n",
    "                                           0,\n",
    "                                           int(new_material.length),\n",
    "                                           new_material.length_type \n",
    "                                        ]\n",
    "            return doc_df,  gr.update(visible=True), gr.update(visible=True)\n",
    "    except Exception as e:\n",
    "        print('noooooo')\n",
    "    return doc_df,  gr.update(visible=False), gr.update(visible=False)\n",
    "with gr.Blocks(css=css_string, theme=gr.themes.Ocean() ,title=\"Custom Math Test Creator\") as ui:\n",
    "    questions = gr.State()\n",
    "    new_doc = gr.State()\n",
    "    #Set Parameters\n",
    "    gr.Markdown('## Create a Custom Test')\n",
    "\n",
    "    with gr.Tab('Material Uploader'):                \n",
    "        with gr.Row():\n",
    "                gr.Markdown(\"#### Upload source materials for your test:\")\n",
    "        with gr.Row():\n",
    "                with gr.Column():\n",
    "                    file_uploader = gr.File(file_count=\"multiple\",  height=175)\n",
    "                with gr.Column():\n",
    "                    doc_data = gr.Markdown(label=\"Document Data\", height=175)\n",
    "        with gr.Row():\n",
    "            doc_markdown = gr.Markdown(\"### Uploaded Documents\", visible=False)\n",
    "\n",
    "        with gr.Row():\n",
    "            doc_df = gr.Dataframe(\n",
    "                label =\"Edit this table to make specific selections of your material\",\n",
    "                show_label=True,\n",
    "                headers = [\"Material\", \"Name\", \"Start\", \"End\", \"Unit\"],\n",
    "                interactive=True,\n",
    "                column_widths=[1,3,1,1,2],\n",
    "                datatype=[\"number\", \"str\",\"number\",\"number\",\"str\" ],\n",
    "                col_count=(5, \"fixed\"),\n",
    "                visible = False,\n",
    "                wrap = True,\n",
    "                elem_classes = \"editable-table\",\n",
    "            )\n",
    "\n",
    "        with gr.Row():\n",
    "            with gr.Column():\n",
    "                no_rag = gr.Button(\"I don't want to upload materials (not recommended)\", elem_classes=\"red-button\")\n",
    "            with gr.Column():\n",
    "                create_rag = gr.Button(\"I'm done uploading materials\", visible=False, elem_classes=\"green-button\")\n",
    "        with gr.Row():\n",
    "            error_messages = gr.Markdown(elem_classes=\"error\")\n",
    "        with gr.Row():\n",
    "            success_messages = gr.Markdown(\"###\")\n",
    "\n",
    "    with gr.Tab(\"Question Workshop\", visible=False) as workshop: \n",
    "        gr.Markdown(\"## Welcome to your test creator\")\n",
    "        gr.Markdown(f\"### Create a test based on your material uploads:\")\n",
    "        document_markdown = gr.Markdown()\n",
    "    \n",
    "        with gr.Row(): \n",
    "            subject = gr.Textbox(label = \"Subject\", value='Math')\n",
    "            grade_level = gr.Dropdown(label=\"Grade Level\", choices=[6,7,8,9,10,11,12,\"College\", \"University\"])\n",
    "        with gr.Row():\n",
    "            with gr.Column(scale=2):\n",
    "                gr.Markdown(\"What questions do you need on your test?\")\n",
    "                question_number = gr.Textbox(2,label = \"Number of questions\")\n",
    "                topics = gr.Textbox('trig',label = \"Topics\")\n",
    "                question_type = gr.Dropdown( label=\"Types of questions\", choices=['Mulitple Choice', 'Essay', 'True/False', 'Short Answer', 'File in the Blank'],multiselect=True)\n",
    "                keep_questions = gr.Dropdown(label=\"Questions to keep\", choices=[],multiselect=True, visible=False)\n",
    "                create_test = gr.Button(\"Create a test\")\n",
    "                gr.Markdown(\"Optional Choices\")\n",
    "                example_questions = gr.Textbox(label='Examples', lines=3)\n",
    "                test_feedback = gr.Textbox(label=\"Give feedback on the test\",lines=3)\n",
    "                with gr.Accordion(\"Advanced Options\", open=False):\n",
    "                    creativity_slider = gr.Slider(minimum=0, maximum=10, value=0, label=\"Creativity\", info=\"Choose the creativity of your questions. Higher values are most creative and random\")\n",
    "            with gr.Column(scale=3):\n",
    "                test_markdown = gr.Markdown(label=\"Test:\", min_height=300)\n",
    "\n",
    "\n",
    "    with gr.Tab(\"Download Test\", visible=False) as download:       \n",
    "        with gr.Row():   \n",
    "            create_file = gr.Button('Create a file')\n",
    "            file_type = gr.Dropdown(choices=['pdf', 'text'])\n",
    "        download_file = gr.File(label=\"Download your file\")\n",
    "\n",
    "        # with gr.Row():\n",
    "        #     with gr.Column():\n",
    "        #         chatbot = gr.Chatbot(type='messages')\n",
    "                # chat_entry = gr.Textbox() \n",
    "            # with gr.Column(scale=2):\n",
    "                #  test = gr.Markdown(\"## Test\")          \n",
    "    def check_integer_values(doc_df):\n",
    "        starts = [start for start in doc_df[\"Start\"]]\n",
    "        ends=  [end for end in doc_df[\"End\"]]\n",
    "        digits = [x for x in starts + ends if not str(x).isdigit()]\n",
    "        if len(digits) > 0:\n",
    "            return f\"starts and ends must be integers\", gr.update(visible=False)\n",
    "        if doc_df.loc[0][\"Name\"]:\n",
    "            return \"\", gr.update(visible=True)\n",
    "        else:\n",
    "            return \"\", gr.update(visible=False)\n",
    "        \n",
    "    # Material Event Listeners\n",
    "    file_uploader.change(collectionAgent.create_source_material, inputs=[file_uploader], outputs=[new_doc])\n",
    "    new_doc.change(docdata_to_text, inputs=[new_doc], outputs=[doc_data]).then(doc_to_df, inputs=[doc_df, new_doc], outputs=[doc_df, doc_df, create_rag])\n",
    "    doc_df.change(check_integer_values, inputs=[doc_df], outputs=[error_messages,create_rag])\n",
    "\n",
    "    no_rag.click(make_tabs_visible, outputs=[workshop, download])\n",
    "    create_rag.click(collectionAgent.materials_rag, inputs=[doc_df], outputs=[success_messages]).then(collectionAgent.setup).then(make_tabs_visible, outputs=[workshop,download])\n",
    "\n",
    "     # create_test.click(collectionAgent.create_formatted_test, inputs=[subject, grade_level, question_number, topics,question_type, example_questions, creativity_slider], outputs=[questions]).then(stream_test, inputs=[questions], outputs=[test_markdown])\n",
    "    # create_test.click(collectionAgent.create_formatted_test, inputs=[subject, grade_level, question_number, topics,question_type, example_questions, creativity_slider], outputs=[questions]).then(stream_test, inputs=[questions], outputs=[test_markdown]).then(update_keep_questions, inputs=[questions], outputs=[keep_questions])\n",
    "    \n",
    "    # Question Workshop Event listners\n",
    "    \n",
    "    create_test.click(collectionAgent.create_formatted_test, inputs=[subject, grade_level, question_number, topics,question_type, example_questions, test_feedback, creativity_slider], outputs=[questions])\\\n",
    "        .then(collectionAgent.stream_test, inputs=[], outputs=[test_markdown]).then(update_keep_questions, inputs=[questions], outputs=[keep_questions])\n",
    "    keep_questions.change(collectionAgent.restrict_questions_by, inputs=[keep_questions], outputs=[questions])\\\n",
    "        .then(collectionAgent.stream_test, inputs=[], outputs=[test_markdown])\n",
    "\n",
    "    create_file.click(file_test, inputs=[questions,file_type], outputs=[download_file, test_image])\n",
    "\n",
    "\n",
    "\n",
    "ui.launch(inbrowser=True)\n",
    "        "
   ]
  },
  {
   "cell_type": "code",
   "execution_count": 106,
   "metadata": {},
   "outputs": [
    {
     "name": "stdout",
     "output_type": "stream",
     "text": [
      "Closing server running on port: 7860\n"
     ]
    }
   ],
   "source": [
    "ui.close()\n"
   ]
  },
  {
   "cell_type": "code",
   "execution_count": 112,
   "metadata": {},
   "outputs": [
    {
     "ename": "NameError",
     "evalue": "name 'function' is not defined",
     "output_type": "error",
     "traceback": [
      "\u001b[0;31m---------------------------------------------------------------------------\u001b[0m",
      "\u001b[0;31mNameError\u001b[0m                                 Traceback (most recent call last)",
      "Cell \u001b[0;32mIn[112], line 1\u001b[0m\n\u001b[0;32m----> 1\u001b[0m iface \u001b[38;5;241m=\u001b[39m gr\u001b[38;5;241m.\u001b[39mInterface(fn\u001b[38;5;241m=\u001b[39m\u001b[43mfunction\u001b[49m,\n\u001b[1;32m      2\u001b[0m  inputs\u001b[38;5;241m=\u001b[39mgr\u001b[38;5;241m.\u001b[39mFile(label\u001b[38;5;241m=\u001b[39m\u001b[38;5;124m\"\u001b[39m\u001b[38;5;124mPDF\u001b[39m\u001b[38;5;124m\"\u001b[39m),\n\u001b[1;32m      3\u001b[0m  outputs\u001b[38;5;241m=\u001b[39m[gr\u001b[38;5;241m.\u001b[39moutputs\u001b[38;5;241m.\u001b[39mImage(\u001b[38;5;28mtype\u001b[39m\u001b[38;5;241m=\u001b[39m\u001b[38;5;124m\"\u001b[39m\u001b[38;5;124mpil\u001b[39m\u001b[38;5;124m\"\u001b[39m, label\u001b[38;5;241m=\u001b[39m\u001b[38;5;124m\"\u001b[39m\u001b[38;5;124mannotated image\u001b[39m\u001b[38;5;124m\"\u001b[39m),\u001b[38;5;124m\"\u001b[39m\u001b[38;5;124mdataframe\u001b[39m\u001b[38;5;124m\"\u001b[39m] ,\n\u001b[1;32m      4\u001b[0m  title\u001b[38;5;241m=\u001b[39mtitle,\n\u001b[1;32m      5\u001b[0m  description\u001b[38;5;241m=\u001b[39mdescription,\n\u001b[1;32m      6\u001b[0m   examples\u001b[38;5;241m=\u001b[39mexamples,\n\u001b[1;32m      7\u001b[0m   css\u001b[38;5;241m=\u001b[39mcss,\n\u001b[1;32m      8\u001b[0m   \u001b[38;5;66;03m#article=article,\u001b[39;00m\n\u001b[1;32m      9\u001b[0m analytics_enabled \u001b[38;5;241m=\u001b[39m \u001b[38;5;28;01mTrue\u001b[39;00m, enable_queue\u001b[38;5;241m=\u001b[39m\u001b[38;5;28;01mTrue\u001b[39;00m)\n\u001b[1;32m     10\u001b[0m iface\u001b[38;5;241m.\u001b[39mlaunch(inline\u001b[38;5;241m=\u001b[39m\u001b[38;5;28;01mFalse\u001b[39;00m,debug\u001b[38;5;241m=\u001b[39m\u001b[38;5;28;01mTrue\u001b[39;00m)\n",
      "\u001b[0;31mNameError\u001b[0m: name 'function' is not defined"
     ]
    }
   ],
   "source": [
    "iface = gr.Interface(fn=function,\n",
    " inputs=gr.File(label=\"PDF\"),\n",
    " outputs=[gr.outputs.Image(type=\"pil\", label=\"annotated image\"),\"dataframe\"] ,\n",
    " title=title,\n",
    " description=description,\n",
    "  examples=examples,\n",
    "  css=css,\n",
    "  #article=article,\n",
    "analytics_enabled = True, enable_queue=True)\n",
    "iface.launch(inline=False,debug=True)\n"
   ]
  }
 ],
 "metadata": {
  "kernelspec": {
   "display_name": "testg",
   "language": "python",
   "name": "python3"
  },
  "language_info": {
   "codemirror_mode": {
    "name": "ipython",
    "version": 3
   },
   "file_extension": ".py",
   "mimetype": "text/x-python",
   "name": "python",
   "nbconvert_exporter": "python",
   "pygments_lexer": "ipython3",
   "version": "3.11.11"
  }
 },
 "nbformat": 4,
 "nbformat_minor": 2
}
